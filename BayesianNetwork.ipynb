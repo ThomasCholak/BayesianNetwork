{
  "nbformat": 4,
  "nbformat_minor": 0,
  "metadata": {
    "colab": {
      "provenance": []
    },
    "kernelspec": {
      "name": "python3",
      "display_name": "Python 3"
    },
    "language_info": {
      "name": "python"
    }
  },
  "cells": [
    {
      "cell_type": "markdown",
      "source": [
        "# Bayesian Network Model<br>\n",
        "**Thomas Cholak**"
      ],
      "metadata": {
        "id": "5YjEFXApGp0S"
      }
    },
    {
      "cell_type": "markdown",
      "source": [
        "First we download our relevant data set into the Google Colab (Jupyter) notebook.<br>\n",
        "After downloading, we can comment this section of code out):"
      ],
      "metadata": {
        "id": "mfG7FdQ1ZcUT"
      }
    },
    {
      "cell_type": "code",
      "execution_count": null,
      "metadata": {
        "id": "vFJbLfFVKoos"
      },
      "outputs": [],
      "source": [
        "from google.colab import files\n",
        "\n",
        "uploaded = files.upload()"
      ]
    },
    {
      "cell_type": "markdown",
      "source": [
        "Used the Following Sources for data scraping/collection (Bibliography):\n",
        "\n",
        "Menjivar, J. (2020, January 12). Ghastly warnings. Creepypasta. https://www.creepypasta.com/ghastly-warnings/\n",
        "\n",
        "Rashell, N. (2019, June 23). Tales from an ex-convict. Creepypasta. https://www.creepypasta.com/tales-from-an-ex-convict/\n",
        "\n",
        "Müller, A. C., & Guido, S. (2018). Introduction to machine learning with python: A guide for data scientists. O’Reilly Media.<br>\n",
        "\n",
        "\n",
        "These are the data sets I created after using the above sources -><br>\n",
        "CS-Data (891 lines total):\n",
        "https://drive.google.com/file/d/1D990lrh940Y1Ql9-sTiQRP6WnkkHikg2/view?usp=sharing\n",
        "\n",
        "Non CS-Data (358 lines total):\n",
        "https://drive.google.com/file/d/1fgFEcyyU3NwFZYGZx50is7IYFJ7sTF1e/view?usp=sharing\n",
        "\n",
        "(1249 lines total using both datasets)"
      ],
      "metadata": {
        "id": "BjYzqLz6CX4m"
      }
    },
    {
      "cell_type": "markdown",
      "source": [
        "Next we need to import pandas dataframes and numpy plus a seed to make sure all runs are the same."
      ],
      "metadata": {
        "id": "7m8X6Gy3ZgUI"
      }
    },
    {
      "cell_type": "code",
      "source": [
        "import pandas as pd\n",
        "import numpy as np\n",
        "import matplotlib.pyplot as plt\n",
        "from tabulate import tabulate\n",
        "from collections import Counter  # used for word counting\n",
        "\n",
        "np.random.seed(42)  # set seed so every run is the same\n",
        "\n",
        "# read in our data\n",
        "CS_DataSet = 'CS_Data.txt'\n",
        "Non_CS_DataSet = 'NonCS_Data.txt'\n",
        "\n",
        "# open CS related data\n",
        "with open(CS_DataSet, 'r') as file:\n",
        "    file_content = file.read()\n",
        "\n",
        "lines = file_content.split('\\n')\n",
        "CS_Data_Pre = pd.DataFrame(lines)\n",
        "\n",
        "# open non-CS related data\n",
        "with open(Non_CS_DataSet, 'r') as file:\n",
        "    file_content_2 = file.read()\n",
        "\n",
        "lines_2 = file_content_2.split('\\n')\n",
        "NonCS_Data_Pre = pd.DataFrame(lines_2)\n",
        "\n",
        "# 'CS' represented as integer '1' -> we add as leftmost column\n",
        "add_column = pd.DataFrame([1] * len(CS_Data_Pre),\n",
        "                          index=CS_Data_Pre.index)\n",
        "\n",
        "# 'Non-CS' represented as integer '0' -> leftmost column\n",
        "add_column_2 = pd.DataFrame([0] * len(NonCS_Data_Pre),\n",
        "                          index=NonCS_Data_Pre.index)\n",
        "\n",
        "CS_Data = pd.concat([add_column, CS_Data_Pre], axis=1)\n",
        "NonCS_Data = pd.concat([add_column_2, NonCS_Data_Pre], axis=1)\n",
        "\n",
        "# then we combine both datasets\n",
        "both_data = pd.concat([CS_Data, NonCS_Data])\n",
        "SpamHam = both_data.sample(frac=1).reset_index(drop=True)\n",
        "SpamHam.columns = ['CLASS', 'TEXT']\n",
        "\n",
        "print(\"Data Set Head (First 5 lines after data shuffling):\\n\")\n",
        "print(tabulate(SpamHam.head(), headers='keys', tablefmt='fancy_grid'), \"\\n\")\n",
        "\n",
        "plt.pie(SpamHam['CLASS'].value_counts(), radius = 1.5, autopct=\"%0.2f%%\",\n",
        "        labels=['CS','Non-CS'])\n",
        "plt.show()"
      ],
      "metadata": {
        "colab": {
          "base_uri": "https://localhost:8080/",
          "height": 758
        },
        "id": "vAEKkJLBLQP6",
        "outputId": "6630e36c-6a11-4942-8c28-22fc66881d2b"
      },
      "execution_count": null,
      "outputs": [
        {
          "output_type": "stream",
          "name": "stdout",
          "text": [
            "Data Set Head (First 5 lines after data shuffling):\n",
            "\n",
            "╒════╤═════════╤════════════════════════════════════════════════════════════════════════════════════════════════════════════════════════════════════════════════════════════════╕\n",
            "│    │   CLASS │ TEXT                                                                                                                                                           │\n",
            "╞════╪═════════╪════════════════════════════════════════════════════════════════════════════════════════════════════════════════════════════════════════════════════════════════╡\n",
            "│  0 │       1 │ Recall that because average precision is the area under a curve that goes from 0 to 1, average precision always returnsa value between 0 (worst) and 1 (best). │\n",
            "├────┼─────────┼────────────────────────────────────────────────────────────────────────────────────────────────────────────────────────────────────────────────────────────────┤\n",
            "│  1 │       0 │ Anyway, after about twenty minutes of breathing in this gas, Terrys buddy is out of it.                                                                        │\n",
            "├────┼─────────┼────────────────────────────────────────────────────────────────────────────────────────────────────────────────────────────────────────────────────────────────┤\n",
            "│  2 │       0 │ The train had stopped.                                                                                                                                         │\n",
            "├────┼─────────┼────────────────────────────────────────────────────────────────────────────────────────────────────────────────────────────────────────────────────────────────┤\n",
            "│  3 │       1 │ Creating 10 clusters, we cut across the tree at the very top, where there are 10 vertical lines.                                                               │\n",
            "├────┼─────────┼────────────────────────────────────────────────────────────────────────────────────────────────────────────────────────────────────────────────────────────────┤\n",
            "│  4 │       1 │ We know, however, that linear models can learn notonly offsets, but also slopes.                                                                               │\n",
            "╘════╧═════════╧════════════════════════════════════════════════════════════════════════════════════════════════════════════════════════════════════════════════════════════════╛ \n",
            "\n"
          ]
        },
        {
          "output_type": "display_data",
          "data": {
            "text/plain": [
              "<Figure size 640x480 with 1 Axes>"
            ],
            "image/png": "[encoded data removed]"
          },
          "metadata": {}
        }
      ]
    },
    {
      "cell_type": "markdown",
      "source": [
        "Output Model Accuracy\n",
        "We are using '1' to signifiy CS keywords are present and '0' to signify there are none present."
      ],
      "metadata": {
        "id": "bK4nTJ5SBea7"
      }
    },
    {
      "cell_type": "code",
      "source": [
        "from sklearn.model_selection import train_test_split\n",
        "from sklearn.feature_extraction.text import TfidfVectorizer\n",
        "from sklearn.linear_model import LogisticRegression\n",
        "from sklearn.metrics import classification_report, accuracy_score, confusion_matrix\n",
        "from sklearn.naive_bayes import MultinomialNB  # used to actually define Naive Bayes model\n",
        "\n",
        "# we prepare the data by using 'the classification' and the 'text' of the model\n",
        "X = SpamHam['TEXT']\n",
        "y = SpamHam['CLASS']\n",
        "\n",
        "# feature extraction into vectors\n",
        "tfidf_vector = TfidfVectorizer()\n",
        "X_tfidf = tfidf_vector.fit_transform(X)\n",
        "\n",
        "# perform the model training (test data size = 20%)\n",
        "X_train, X_test, y_train, y_test = train_test_split(X_tfidf, y, test_size=0.2,\n",
        "                                                    random_state=78)\n",
        "naive_bayes_classifier = MultinomialNB()\n",
        "naive_bayes_classifier.fit(X_train, y_train)\n",
        "\n",
        "# here we evaluate our model\n",
        "y_pred = naive_bayes_classifier.predict(X_test)\n",
        "print(classification_report(y_test, y_pred))\n",
        "\n",
        "# here we perform our actual predictions\n",
        "text = [\"Classify this text\"]\n",
        "text_tfidf = tfidf_vector.transform(text)\n",
        "predicted_class = naive_bayes_classifier.predict(text_tfidf)\n",
        "print(\"Predicted class:\", predicted_class)\n",
        "\n",
        "print(\"\\nConfusion Matrix:\\n\", confusion_matrix(y_test, y_pred))\n",
        "\n",
        "# find and print the model's accuracy\n",
        "accuracy = accuracy_score(y_test, y_pred)\n",
        "print(\"\\nModel accuracy:\", accuracy)"
      ],
      "metadata": {
        "colab": {
          "base_uri": "https://localhost:8080/"
        },
        "id": "r3yH1WAFkGM0",
        "outputId": "e1eb714a-11a0-4715-f710-07ac8a173814"
      },
      "execution_count": null,
      "outputs": [
        {
          "output_type": "stream",
          "name": "stdout",
          "text": [
            "              precision    recall  f1-score   support\n",
            "\n",
            "           0       1.00      0.83      0.91        66\n",
            "           1       0.94      1.00      0.97       184\n",
            "\n",
            "    accuracy                           0.96       250\n",
            "   macro avg       0.97      0.92      0.94       250\n",
            "weighted avg       0.96      0.96      0.95       250\n",
            "\n",
            "Predicted class: [1]\n",
            "\n",
            "Confusion Matrix:\n",
            " [[ 55  11]\n",
            " [  0 184]]\n",
            "\n",
            "Model accuracy: 0.956\n"
          ]
        }
      ]
    },
    {
      "cell_type": "markdown",
      "source": [
        "Total Word Count for both CS and non-CS<br>\n",
        "Total Number of Keywords is '21'"
      ],
      "metadata": {
        "id": "gnj-XwKbBCQd"
      }
    },
    {
      "cell_type": "code",
      "source": [
        "from collections import Counter\n",
        "import re\n",
        "\n",
        "# creates 21 keywords\n",
        "keywords = [\"training\", \"machine\", \"number\", \"parameter\", \"cross-validation\",\n",
        "            \"clustering\", \"clusters\", \"classification\", \"dataset\", \"parameters\",\n",
        "            \"cluster\", \"feature\", \"learning\", \"points\", \"different\", \"positive\",\n",
        "            \"algorithms\", \"model\", \"data\", \"algorithm\", \"accuracy\"]\n",
        "\n",
        "# open CS related data\n",
        "with open(CS_DataSet, 'r') as file:\n",
        "    text = file.read()\n",
        "\n",
        "sentences = re.split(r'(?<!\\w\\.\\w.)(?<![A-Z][a-z]\\.)(?<=\\.|\\?)\\s', text)\n",
        "\n",
        "# removes '\\n' characters and filter out empty sentences\n",
        "sentences = [sentence.replace('\\n', '') for sentence in sentences if sentence.strip()]\n",
        "data = np.array(sentences)  # convert into a numpy array\n",
        "\n",
        "words_list = np.concatenate([sentence.split() for sentence in data])\n",
        "\n",
        "# used a for-loop to count occurences in np.array using keywords array\n",
        "keyword_counts = {}\n",
        "for keyword in keywords:\n",
        "    keyword_counts[keyword] = np.sum(words_list == keyword)\n",
        "\n",
        "# table for CS-related data\n",
        "table_1 = []\n",
        "for keyword, count in keyword_counts.items():\n",
        "    table_1.append([count])\n",
        "\n",
        "# open non-CS related data\n",
        "with open(Non_CS_DataSet, 'r') as file:\n",
        "    text_2 = file.read()\n",
        "\n",
        "# uses regex to break sentences into individual words\n",
        "sentences = re.split(r'(?<!\\w\\.\\w.)(?<![A-Z][a-z]\\.)(?<=\\.|\\?)\\s', text_2)\n",
        "sentences = [sentence.replace('\\n', '') for sentence in sentences if sentence.strip()]\n",
        "\n",
        "data = np.array(sentences)\n",
        "words_list = np.concatenate([sentence.split() for sentence in data])\n",
        "\n",
        "keyword_counts = {}\n",
        "for keyword in keywords:\n",
        "    keyword_counts[keyword] = np.sum(words_list == keyword)\n",
        "\n",
        "# table for non-CS data\n",
        "table_2 = []\n",
        "for keyword, count in keyword_counts.items():\n",
        "    table_2.append([count])\n",
        "\n",
        "table_data = list(zip(keywords, table_1, table_2))\n",
        "\n",
        "print(tabulate(table_data, headers=[\"Keyword\", \"Word Count (CS)\", \"Word Count (Non-CS)\"],\n",
        "               tablefmt=\"fancy_grid\"))"
      ],
      "metadata": {
        "colab": {
          "base_uri": "https://localhost:8080/"
        },
        "id": "P708WW9L2l0x",
        "outputId": "1e74810f-6acc-4daf-e1fb-a43903f73c5e"
      },
      "execution_count": null,
      "outputs": [
        {
          "output_type": "stream",
          "name": "stdout",
          "text": [
            "╒══════════════════╤═══════════════════╤═══════════════════════╕\n",
            "│ Keyword          │ Word Count (CS)   │ Word Count (Non-CS)   │\n",
            "╞══════════════════╪═══════════════════╪═══════════════════════╡\n",
            "│ training         │ [60]              │ [0]                   │\n",
            "├──────────────────┼───────────────────┼───────────────────────┤\n",
            "│ machine          │ [62]              │ [0]                   │\n",
            "├──────────────────┼───────────────────┼───────────────────────┤\n",
            "│ number           │ [45]              │ [0]                   │\n",
            "├──────────────────┼───────────────────┼───────────────────────┤\n",
            "│ parameter        │ [40]              │ [0]                   │\n",
            "├──────────────────┼───────────────────┼───────────────────────┤\n",
            "│ cross-validation │ [39]              │ [0]                   │\n",
            "├──────────────────┼───────────────────┼───────────────────────┤\n",
            "│ clustering       │ [34]              │ [0]                   │\n",
            "├──────────────────┼───────────────────┼───────────────────────┤\n",
            "│ clusters         │ [34]              │ [0]                   │\n",
            "├──────────────────┼───────────────────┼───────────────────────┤\n",
            "│ classification   │ [38]              │ [0]                   │\n",
            "├──────────────────┼───────────────────┼───────────────────────┤\n",
            "│ dataset          │ [30]              │ [0]                   │\n",
            "├──────────────────┼───────────────────┼───────────────────────┤\n",
            "│ parameters       │ [32]              │ [0]                   │\n",
            "├──────────────────┼───────────────────┼───────────────────────┤\n",
            "│ cluster          │ [34]              │ [0]                   │\n",
            "├──────────────────┼───────────────────┼───────────────────────┤\n",
            "│ feature          │ [75]              │ [0]                   │\n",
            "├──────────────────┼───────────────────┼───────────────────────┤\n",
            "│ learning         │ [79]              │ [0]                   │\n",
            "├──────────────────┼───────────────────┼───────────────────────┤\n",
            "│ points           │ [53]              │ [0]                   │\n",
            "├──────────────────┼───────────────────┼───────────────────────┤\n",
            "│ different        │ [49]              │ [0]                   │\n",
            "├──────────────────┼───────────────────┼───────────────────────┤\n",
            "│ positive         │ [35]              │ [0]                   │\n",
            "├──────────────────┼───────────────────┼───────────────────────┤\n",
            "│ algorithms       │ [25]              │ [0]                   │\n",
            "├──────────────────┼───────────────────┼───────────────────────┤\n",
            "│ model            │ [121]             │ [0]                   │\n",
            "├──────────────────┼───────────────────┼───────────────────────┤\n",
            "│ data             │ [175]             │ [0]                   │\n",
            "├──────────────────┼───────────────────┼───────────────────────┤\n",
            "│ algorithm        │ [27]              │ [0]                   │\n",
            "├──────────────────┼───────────────────┼───────────────────────┤\n",
            "│ accuracy         │ [30]              │ [0]                   │\n",
            "╘══════════════════╧═══════════════════╧═══════════════════════╛\n"
          ]
        }
      ]
    },
    {
      "cell_type": "markdown",
      "source": [
        "This outputs statistics on the data -> <br>\n",
        "Total number of Lines in Data Set: 1249<br>\n",
        "Shortest Text has 22 characters and the Longest Text has 428.<br>\n",
        "Rest of Statistics (std, mean, and corresponding quartiles) are produced below:"
      ],
      "metadata": {
        "id": "cyK58A1NHrRu"
      }
    },
    {
      "cell_type": "code",
      "source": [
        "SpamHam['characters'] = SpamHam['TEXT'].apply(len)\n",
        "SpamHam['characters'].describe()  # outputs numbers of characters"
      ],
      "metadata": {
        "colab": {
          "base_uri": "https://localhost:8080/"
        },
        "id": "GB2U6Ino0gng",
        "outputId": "a0f5e860-4d3e-448f-c317-21beae2b5d13"
      },
      "execution_count": null,
      "outputs": [
        {
          "output_type": "execute_result",
          "data": {
            "text/plain": [
              "count    1249.000000\n",
              "mean      127.144916\n",
              "std        54.855571\n",
              "min        22.000000\n",
              "25%        87.000000\n",
              "50%       120.000000\n",
              "75%       160.000000\n",
              "max       428.000000\n",
              "Name: characters, dtype: float64"
            ]
          },
          "metadata": {},
          "execution_count": 296
        }
      ]
    }
  ]
}